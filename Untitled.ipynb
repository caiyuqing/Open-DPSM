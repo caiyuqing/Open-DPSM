{
 "cells": [
  {
   "cell_type": "code",
   "execution_count": 1,
   "id": "1842f3b2-4c78-4ef1-bab1-9e78d983ba31",
   "metadata": {},
   "outputs": [],
   "source": [
    "import os"
   ]
  },
  {
   "cell_type": "code",
   "execution_count": 3,
   "id": "58561503-27c8-43a2-99a3-5b69ddd7cbe4",
   "metadata": {},
   "outputs": [
    {
     "data": {
      "text/plain": [
       "'D:\\\\Users\\\\7009291\\\\Desktop\\\\Movie pupil perimetry\\\\codes for both data\\\\Open-DPSM'"
      ]
     },
     "execution_count": 3,
     "metadata": {},
     "output_type": "execute_result"
    }
   ],
   "source": [
    "os.getcwd()"
   ]
  },
  {
   "cell_type": "code",
   "execution_count": 4,
   "id": "26f001a5-ce15-4529-a299-d10850e034eb",
   "metadata": {},
   "outputs": [
    {
     "data": {
      "text/plain": [
       "0"
      ]
     },
     "execution_count": 4,
     "metadata": {},
     "output_type": "execute_result"
    }
   ],
   "source": [
    "script_path = \"main_app.py\"\n",
    "os.system(f'python {script_path}')\n"
   ]
  },
  {
   "cell_type": "code",
   "execution_count": null,
   "id": "38f0fb43-c3e1-464e-bd58-87c659df3d4e",
   "metadata": {},
   "outputs": [],
   "source": []
  }
 ],
 "metadata": {
  "kernelspec": {
   "display_name": "Python 3 (ipykernel)",
   "language": "python",
   "name": "python3"
  },
  "language_info": {
   "codemirror_mode": {
    "name": "ipython",
    "version": 3
   },
   "file_extension": ".py",
   "mimetype": "text/x-python",
   "name": "python",
   "nbconvert_exporter": "python",
   "pygments_lexer": "ipython3",
   "version": "3.9.7"
  }
 },
 "nbformat": 4,
 "nbformat_minor": 5
}
